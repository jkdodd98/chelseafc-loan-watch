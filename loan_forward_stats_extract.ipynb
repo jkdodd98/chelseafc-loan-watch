{
 "cells": [
  {
   "cell_type": "code",
   "execution_count": 1,
   "id": "d1d2ac2c",
   "metadata": {},
   "outputs": [],
   "source": [
    "import pandas as pd\n",
    "import requests\n",
    "from bs4 import BeautifulSoup\n",
    "import re"
   ]
  },
  {
   "cell_type": "code",
   "execution_count": 2,
   "id": "0c217d82",
   "metadata": {},
   "outputs": [],
   "source": [
    "df = pd.read_csv('Data/loan_players.csv')"
   ]
  },
  {
   "cell_type": "code",
   "execution_count": 3,
   "id": "d676bbda",
   "metadata": {},
   "outputs": [],
   "source": [
    "df = df[df['Position'] == 'Forward']\n",
    "df.reset_index(inplace=True, drop=True)"
   ]
  },
  {
   "cell_type": "code",
   "execution_count": 4,
   "id": "d38fa6ba",
   "metadata": {},
   "outputs": [],
   "source": [
    "# convert df to dictionary\n",
    "players_dict = df.to_dict()"
   ]
  },
  {
   "cell_type": "code",
   "execution_count": 5,
   "id": "70bb0d79",
   "metadata": {},
   "outputs": [],
   "source": [
    "# define headers for request\n",
    "headers = {'User-Agent': \n",
    "           'Mozilla/5.0 (X11; Linux x86_64) AppleWebKit/537.36 (KHTML, like Gecko) Chrome/47.0.2526.106 Safari/537.36'}\n",
    "\n",
    "# define base url for requests\n",
    "base_url = 'http://www.transfermarkt.co.uk/schnellsuche/ergebnis/schnellsuche?query='"
   ]
  },
  {
   "cell_type": "code",
   "execution_count": 6,
   "id": "20522cfb",
   "metadata": {},
   "outputs": [
    {
     "name": "stdout",
     "output_type": "stream",
     "text": [
      "\tLoop 1/3 --- Completed\n",
      "\tLoop 2/3 --- Completed\n",
      "\tLoop 3/3 --- Completed\n"
     ]
    }
   ],
   "source": [
    "profile_links = []\n",
    "\n",
    "for i in range(len(df)):\n",
    "    \n",
    "    # extract player info from players dictionary\n",
    "    name = players_dict['Name'][i]\n",
    "    club = players_dict['Loan Club'][i]\n",
    "    age = players_dict['Age'][i]\n",
    "\n",
    "    # replace space in name with '+'\n",
    "    query = name.replace(' ', '+')\n",
    "\n",
    "    # define url to search for player on transfermarkt\n",
    "    url = f'{base_url}{query}'\n",
    "    r = requests.get(url=url,headers=headers)\n",
    "\n",
    "    soup = BeautifulSoup(r.content)\n",
    "\n",
    "    for name_match in soup.select('table > tbody > tr'):\n",
    "        if re.match(f'.*{club}.*',name_match.select('a')[2].text):\n",
    "            profile_links.append(name_match.select('a')[1].get('href'))\n",
    "            print(f'\\tLoop {i+1}/{len(df)} --- Completed')\n",
    "            break"
   ]
  },
  {
   "cell_type": "code",
   "execution_count": 7,
   "id": "a85d4254",
   "metadata": {},
   "outputs": [
    {
     "name": "stdout",
     "output_type": "stream",
     "text": [
      "Extraction Started\n",
      "\n",
      "\tLoop 1/3 --- Completed\n",
      "\tLoop 2/3 --- Completed\n",
      "\tLoop 3/3 --- Completed\n",
      "\n",
      "Extraction Completed\n"
     ]
    }
   ],
   "source": [
    "# initialize lists to store player data when scraping\n",
    "\n",
    "apps = {}\n",
    "goals = {}\n",
    "assists = {}\n",
    "own_goals = {}\n",
    "sub_on = {}\n",
    "sub_off = {}\n",
    "yellow = {}\n",
    "second_yellow = {}\n",
    "red = {}\n",
    "penalties = {}\n",
    "mins_per_goal = {}\n",
    "mins = {}\n",
    "\n",
    "print('Extraction Started\\n')\n",
    "\n",
    "# loop through player links and extract detailed stats for each player\n",
    "\n",
    "for i, link in enumerate(profile_links):\n",
    "    \n",
    "    # use player to profile link to get url to detailed stats for season\n",
    "    detailed_stats = link.replace('profil', 'leistungsdaten')\n",
    "    \n",
    "    # define url to search for detailed player stats on transfermarkt\n",
    "    url = f'https://www.transfermarkt.co.uk{detailed_stats}/saison/2021/plus/1#gesamt'\n",
    "    r = requests.get(url=url, headers=headers)\n",
    "    soup = BeautifulSoup(r.content)\n",
    "    \n",
    "    # append list with statsfor player\n",
    "    apps[i] = soup.select('#yw1 > table > tfoot > tr > td')[2].text\n",
    "    goals[i] = soup.select('#yw1 > table > tfoot > tr > td')[3].text\n",
    "    assists[i] = soup.select('#yw1 > table > tfoot > tr > td')[4].text\n",
    "    own_goals[i] = soup.select('#yw1 > table > tfoot > tr > td')[5].text\n",
    "    sub_on[i] = soup.select('#yw1 > table > tfoot > tr > td')[6].text\n",
    "    sub_off[i] = soup.select('#yw1 > table > tfoot > tr > td')[7].text\n",
    "    yellow[i] = soup.select('#yw1 > table > tfoot > tr > td')[8].text\n",
    "    second_yellow[i] = soup.select('#yw1 > table > tfoot > tr > td')[9].text\n",
    "    red[i] = soup.select('#yw1 > table > tfoot > tr > td')[10].text\n",
    "    penalties[i] = soup.select('#yw1 > table > tfoot > tr > td')[11].text\n",
    "    mins_per_goal[i] = soup.select('#yw1 > table > tfoot > tr > td')[12].text.replace('.', '').replace(\"'\", '')\n",
    "    mins[i] = soup.select('#yw1 > table > tfoot > tr > td')[13].text.replace('.', '').replace(\"'\", '')\n",
    "    \n",
    "    print(f'\\tLoop {i+1}/{len(profile_links)} --- Completed')\n",
    "\n",
    "print('\\nExtraction Completed')"
   ]
  },
  {
   "cell_type": "code",
   "execution_count": 8,
   "id": "45262f94",
   "metadata": {},
   "outputs": [],
   "source": [
    "dicts_to_clean = [\n",
    "    apps,\n",
    "    goals,\n",
    "    assists,\n",
    "    own_goals,\n",
    "    sub_on,\n",
    "    sub_off,\n",
    "    yellow,\n",
    "    second_yellow,\n",
    "    red,\n",
    "    penalties,\n",
    "    mins_per_goal,\n",
    "    mins\n",
    "]\n",
    "\n",
    "# clean the detailed stats valued extracted previously\n",
    "\n",
    "for dict_to_clean in dicts_to_clean:\n",
    "    for key, val in dict_to_clean.items():\n",
    "        # replace '-' with 0\n",
    "        if val == '-':\n",
    "            dict_to_clean[key]= 0\n",
    "        # convert to other vals to int\n",
    "        else:\n",
    "            dict_to_clean[key] = int(val)"
   ]
  },
  {
   "cell_type": "code",
   "execution_count": 9,
   "id": "73a467df",
   "metadata": {},
   "outputs": [],
   "source": [
    "players_dict['Appearances'] = apps\n",
    "players_dict['Goals'] = goals\n",
    "players_dict['Assists'] = assists\n",
    "players_dict['Own Goals'] = own_goals\n",
    "players_dict['Substitions On'] = sub_on\n",
    "players_dict['Substitutions Off'] = sub_off\n",
    "players_dict['Yellow Cards'] = yellow\n",
    "players_dict['Second Yellow Cards'] = second_yellow\n",
    "players_dict['Red Cards'] = red\n",
    "players_dict['Penalty Goals'] = penalties\n",
    "players_dict['Minutes per Goal'] = mins_per_goal\n",
    "players_dict['Minutes Played'] = mins"
   ]
  },
  {
   "cell_type": "code",
   "execution_count": 10,
   "id": "1a273d78",
   "metadata": {},
   "outputs": [],
   "source": [
    "pd.DataFrame(players_dict).to_csv('Data/loan_forwards.csv')"
   ]
  }
 ],
 "metadata": {
  "kernelspec": {
   "display_name": "Python 3 (ipykernel)",
   "language": "python",
   "name": "python3"
  },
  "language_info": {
   "codemirror_mode": {
    "name": "ipython",
    "version": 3
   },
   "file_extension": ".py",
   "mimetype": "text/x-python",
   "name": "python",
   "nbconvert_exporter": "python",
   "pygments_lexer": "ipython3",
   "version": "3.9.7"
  }
 },
 "nbformat": 4,
 "nbformat_minor": 5
}
