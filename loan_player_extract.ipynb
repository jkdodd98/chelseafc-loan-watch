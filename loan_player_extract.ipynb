{
 "cells": [
  {
   "cell_type": "code",
   "execution_count": 1,
   "id": "206d922b",
   "metadata": {},
   "outputs": [],
   "source": [
    "import requests\n",
    "from bs4 import BeautifulSoup\n",
    "import pandas as pd\n",
    "from datetime import datetime"
   ]
  },
  {
   "cell_type": "code",
   "execution_count": 2,
   "id": "81282c0a",
   "metadata": {},
   "outputs": [],
   "source": [
    "# url from chelsea website containing list of loaned players\n",
    "\n",
    "url = 'https://www.chelseafc.com/en/teams/on-loan-players?pageTab=players'"
   ]
  },
  {
   "cell_type": "code",
   "execution_count": 3,
   "id": "c0f2e764",
   "metadata": {},
   "outputs": [
    {
     "name": "stdout",
     "output_type": "stream",
     "text": [
      "<Response [200]>\n"
     ]
    }
   ],
   "source": [
    "# get url and check response to request\n",
    "\n",
    "r = requests.get(url)\n",
    "print(r)"
   ]
  },
  {
   "cell_type": "code",
   "execution_count": 4,
   "id": "ebbbaac4",
   "metadata": {},
   "outputs": [],
   "source": [
    "# create soup object from request\n",
    "soup = BeautifulSoup(r.content)"
   ]
  },
  {
   "cell_type": "code",
   "execution_count": 5,
   "id": "02e22d1d",
   "metadata": {},
   "outputs": [],
   "source": [
    "# extract links from loanee homepage for individual players\n",
    "player_links = [player.get('href') for player in soup.select(' div > cfc-player-tile > a')]"
   ]
  },
  {
   "cell_type": "code",
   "execution_count": 6,
   "id": "2d1f0f8d",
   "metadata": {},
   "outputs": [
    {
     "name": "stdout",
     "output_type": "stream",
     "text": [
      "Extraction Started:\n",
      "\n",
      "\t5 Loops Completed...\n",
      "\t10 Loops Completed...\n",
      "\t15 Loops Completed...\n",
      "\t20 Loops Completed...\n",
      "\n",
      "Extraction Completed.\n"
     ]
    }
   ],
   "source": [
    "# initialize lists to store player data when scraping\n",
    "\n",
    "name = []\n",
    "loan_club = []\n",
    "dob = []\n",
    "birthplace = []\n",
    "position = []\n",
    "\n",
    "# loop through player links and extract basic info for each player\n",
    "\n",
    "i = 0\n",
    "print('Extraction Started:\\n')\n",
    "\n",
    "for player_link in player_links:\n",
    "    \n",
    "    # only want to consider male players\n",
    "    if 'women' not in player_link.split('/')[3]:\n",
    "        \n",
    "        i += 1\n",
    "        \n",
    "        # add player extensions to chelsea website \n",
    "        link = f'https://www.chelseafc.com/{player_link}'\n",
    "        \n",
    "        # create soup object from player link\n",
    "        sub_soup = BeautifulSoup(requests.get(link).content)\n",
    "        \n",
    "        # append player info to lists\n",
    "        name.append(sub_soup.select('div > h1')[0].text)\n",
    "        loan_club.append(sub_soup.select('div > span')[0].text)\n",
    "        dob.append(sub_soup.select('cfc-property-list > div > ul > li:nth-child(1) > span')[0].text)\n",
    "        birthplace.append(sub_soup.select('cfc-property-list > div > ul > li:nth-child(2) > span')[0].text)\n",
    "        position.append(sub_soup.select('cfc-property-list > div > ul > li:nth-child(3) > span')[0].text)\n",
    "    \n",
    "    # print out when every 5 loops completed\n",
    "    if (i) % 5 == 0:\n",
    "        print(f'\\t{i} Loops Completed...')\n",
    "        \n",
    "print(\"\\nExtraction Completed.\")"
   ]
  },
  {
   "cell_type": "code",
   "execution_count": 7,
   "id": "e66cda3c",
   "metadata": {},
   "outputs": [],
   "source": [
    "players_df = pd.DataFrame(\n",
    "    {\n",
    "        \"Name\":name,\n",
    "        \"Loan Club\":loan_club,\n",
    "        \"Date of Birth\":dob,\n",
    "        \"Birthplace\":birthplace,\n",
    "        \"Position\":position\n",
    "    }\n",
    ")"
   ]
  },
  {
   "cell_type": "code",
   "execution_count": 8,
   "id": "69bb06cc",
   "metadata": {},
   "outputs": [],
   "source": [
    "# convert date of birth to datetime\n",
    "players_df['Date of Birth'] = players_df['Date of Birth'].astype('datetime64')\n",
    "\n",
    "# get todays date\n",
    "today = datetime.today()\n",
    "\n",
    "# calculate age and add to data frame\n",
    "players_df['Age'] = (today - players_df['Date of Birth']).astype('timedelta64[Y]').astype('int')"
   ]
  },
  {
   "cell_type": "code",
   "execution_count": 9,
   "id": "ceedd26c",
   "metadata": {},
   "outputs": [],
   "source": [
    "players_df['Loan Club'].replace(\n",
    "    to_replace=[\n",
    "        'MK Dons', \n",
    "        'Alaves'\n",
    "    ], \n",
    "    value=[\n",
    "        'Milton Keynes Dons',\n",
    "        'Deportivo Alavés'\n",
    "    ], \n",
    "    inplace=True);"
   ]
  },
  {
   "cell_type": "code",
   "execution_count": 10,
   "id": "fe9dd138",
   "metadata": {},
   "outputs": [],
   "source": [
    "players_df.to_csv('Data/loan_players.csv', index=False)"
   ]
  }
 ],
 "metadata": {
  "kernelspec": {
   "display_name": "Python 3 (ipykernel)",
   "language": "python",
   "name": "python3"
  },
  "language_info": {
   "codemirror_mode": {
    "name": "ipython",
    "version": 3
   },
   "file_extension": ".py",
   "mimetype": "text/x-python",
   "name": "python",
   "nbconvert_exporter": "python",
   "pygments_lexer": "ipython3",
   "version": "3.9.7"
  }
 },
 "nbformat": 4,
 "nbformat_minor": 5
}
